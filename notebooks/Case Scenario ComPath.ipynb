{
 "cells": [
  {
   "cell_type": "markdown",
   "metadata": {},
   "source": [
    "# Using BioKEEN to Train and Evaluate a KGE Model on ComPath"
   ]
  },
  {
   "cell_type": "code",
   "execution_count": 1,
   "metadata": {},
   "outputs": [],
   "source": [
    "import json\n",
    "import logging\n",
    "import os\n",
    "import sys\n",
    "import time\n",
    "import warnings\n",
    "\n",
    "import matplotlib\n",
    "import matplotlib.pyplot as plt\n",
    "import numpy as np\n",
    "\n",
    "import biokeen\n",
    "import pykeen"
   ]
  },
  {
   "cell_type": "code",
   "execution_count": 2,
   "metadata": {},
   "outputs": [],
   "source": [
    "warnings.filterwarnings('ignore', category=UserWarning)"
   ]
  },
  {
   "cell_type": "code",
   "execution_count": 3,
   "metadata": {},
   "outputs": [],
   "source": [
    "logging.basicConfig(level=logging.INFO)\n",
    "logging.getLogger('biokeen').setLevel(logging.INFO)"
   ]
  },
  {
   "cell_type": "code",
   "execution_count": 4,
   "metadata": {},
   "outputs": [
    {
     "name": "stdout",
     "output_type": "stream",
     "text": [
      "3.7.0 (default, Jul 23 2018, 20:22:55) \n",
      "[Clang 9.1.0 (clang-902.0.39.2)]\n"
     ]
    }
   ],
   "source": [
    "print(sys.version)"
   ]
  },
  {
   "cell_type": "code",
   "execution_count": 5,
   "metadata": {},
   "outputs": [
    {
     "name": "stdout",
     "output_type": "stream",
     "text": [
      "Sun Jan 20 20:57:46 2019\n"
     ]
    }
   ],
   "source": [
    "print(time.asctime())"
   ]
  },
  {
   "cell_type": "code",
   "execution_count": 6,
   "metadata": {},
   "outputs": [
    {
     "name": "stdout",
     "output_type": "stream",
     "text": [
      "PyKEEN Version: 0.0.19-dev\n",
      "BioKEEN Version: 0.0.12-dev\n"
     ]
    }
   ],
   "source": [
    "print(f'PyKEEN Version: {pykeen.constants.VERSION}')\n",
    "print(f'BioKEEN Version: {biokeen.constants.VERSION}')"
   ]
  },
  {
   "cell_type": "code",
   "execution_count": 7,
   "metadata": {},
   "outputs": [],
   "source": [
    "output_directory = os.path.join(\n",
    "    os.path.expanduser('~'), \n",
    "    'Desktop', \n",
    "    'biokeen_test'\n",
    ")"
   ]
  },
  {
   "cell_type": "markdown",
   "metadata": {},
   "source": [
    "## Step 1: Configure Your Experiment"
   ]
  },
  {
   "cell_type": "code",
   "execution_count": 8,
   "metadata": {},
   "outputs": [],
   "source": [
    "config = dict(\n",
    "    training_set_path           = 'bio2bel:compath',\n",
    "    execution_mode              = 'Training_mode',  \n",
    "    kg_embedding_model_name     = 'TransE',\n",
    "    embedding_dim               = 50, # 150 is better for real\n",
    "    normalization_of_entities   = 2,  # corresponds to L2\n",
    "    scoring_function            = 1,  # corresponds to L1\n",
    "    margin_loss                 = 5,\n",
    "    learning_rate               = 0.01,\n",
    "    batch_size                  = 32,\n",
    "    num_epochs                  = 1000,  # 2500 is better for real\n",
    "    test_set_ratio              = 0.1,\n",
    "    filter_negative_triples     = True,\n",
    "    random_seed                 = 2,\n",
    "    preferred_device            = 'cpu',\n",
    ")"
   ]
  },
  {
   "cell_type": "markdown",
   "metadata": {},
   "source": [
    "## Step 2: Run BioKEEN to Train and Evaluate the Model"
   ]
  },
  {
   "cell_type": "code",
   "execution_count": 10,
   "metadata": {},
   "outputs": [
    {
     "name": "stderr",
     "output_type": "stream",
     "text": [
      "INFO:pykeen.utilities.pipeline:-------------Train KG Embeddings-------------\n",
      "Training epoch: 100%|██████████| 1000/1000 [01:22<00:00, 12.12it/s]\n",
      "INFO:pykeen.utilities.pipeline:-------------Start Evaluation-------------\n",
      "INFO:pykeen.utilities.evaluation_utils.metrics_computations:Evaluation took 2.77s seconds\n"
     ]
    }
   ],
   "source": [
    "results = pykeen.run(\n",
    "    config=config,\n",
    "    output_directory=output_directory,\n",
    ")"
   ]
  },
  {
   "cell_type": "code",
   "execution_count": 11,
   "metadata": {},
   "outputs": [
    {
     "name": "stdout",
     "output_type": "stream",
     "text": [
      "Keys:\n",
      "  entity_to_embedding\n",
      "  entity_to_id\n",
      "  eval_summary\n",
      "  final_configuration\n",
      "  losses\n",
      "  relation_to_embedding\n",
      "  relation_to_id\n",
      "  trained_model\n"
     ]
    }
   ],
   "source": [
    "print('Keys:', *sorted(results.results.keys()), sep='\\n  ')"
   ]
  },
  {
   "cell_type": "markdown",
   "metadata": {},
   "source": [
    "## Step 3: Show Exported Results"
   ]
  },
  {
   "cell_type": "markdown",
   "metadata": {},
   "source": [
    "### 3.1: Show the Trained Model"
   ]
  },
  {
   "cell_type": "code",
   "execution_count": 12,
   "metadata": {},
   "outputs": [
    {
     "data": {
      "text/plain": [
       "TransE(\n",
       "  (criterion): MarginRankingLoss()\n",
       "  (entity_embeddings): Embedding(997, 50)\n",
       "  (relation_embeddings): Embedding(1, 50)\n",
       ")"
      ]
     },
     "execution_count": 12,
     "metadata": {},
     "output_type": "execute_result"
    }
   ],
   "source": [
    "results.results['trained_model']"
   ]
  },
  {
   "cell_type": "markdown",
   "metadata": {},
   "source": [
    "## 3.2: Plot the Losses"
   ]
  },
  {
   "cell_type": "code",
   "execution_count": 13,
   "metadata": {},
   "outputs": [],
   "source": [
    "losses = results.results['losses']"
   ]
  },
  {
   "cell_type": "code",
   "execution_count": 14,
   "metadata": {},
   "outputs": [
    {
     "data": {
      "image/png": "[encoded data removed]",
      "text/plain": [
       "<Figure size 432x288 with 1 Axes>"
      ]
     },
     "metadata": {},
     "output_type": "display_data"
    }
   ],
   "source": [
    "epochs = np.arange(len(losses))\n",
    "plt.title(r'Loss per Epoch')\n",
    "plt.xlabel('Epoch')\n",
    "plt.ylabel('Loss')\n",
    "plt.plot(epochs, losses)\n",
    "plt.show()"
   ]
  },
  {
   "cell_type": "markdown",
   "metadata": {},
   "source": [
    "### 3.3: Show Evaluation Results"
   ]
  },
  {
   "cell_type": "code",
   "execution_count": 15,
   "metadata": {},
   "outputs": [
    {
     "name": "stdout",
     "output_type": "stream",
     "text": [
      "{\n",
      "  \"mean_rank\": 188.53191489361703,\n",
      "  \"hits@k\": {\n",
      "    \"1\": 0.18085106382978725,\n",
      "    \"3\": 0.2765957446808511,\n",
      "    \"5\": 0.3049645390070922,\n",
      "    \"10\": 0.39361702127659576\n",
      "  }\n",
      "}\n"
     ]
    }
   ],
   "source": [
    "print(json.dumps(results.results['eval_summary'], indent=2))"
   ]
  }
 ],
 "metadata": {
  "kernelspec": {
   "display_name": "Python 3",
   "language": "python",
   "name": "python3"
  },
  "language_info": {
   "codemirror_mode": {
    "name": "ipython",
    "version": 3
   },
   "file_extension": ".py",
   "mimetype": "text/x-python",
   "name": "python",
   "nbconvert_exporter": "python",
   "pygments_lexer": "ipython3",
   "version": "3.7.0"
  }
 },
 "nbformat": 4,
 "nbformat_minor": 2
}
