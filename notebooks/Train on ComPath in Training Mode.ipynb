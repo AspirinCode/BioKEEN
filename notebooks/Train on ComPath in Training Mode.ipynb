{
 "cells": [
  {
   "cell_type": "markdown",
   "metadata": {},
   "source": [
    "## Use BioKEEN Programmatically to Train and Evalaute a KGE Model on ComPath"
   ]
  },
  {
   "cell_type": "code",
   "execution_count": 36,
   "metadata": {},
   "outputs": [],
   "source": [
    "import logging\n",
    "import os\n",
    "import sys\n",
    "import time\n",
    "import matplotlib\n",
    "import matplotlib.pyplot as plt\n",
    "import numpy as np\n",
    "\n",
    "import biokeen\n",
    "import pykeen"
   ]
  },
  {
   "cell_type": "code",
   "execution_count": 22,
   "metadata": {},
   "outputs": [],
   "source": [
    "logging.basicConfig(level=logging.INFO)\n",
    "logging.getLogger('biokeen').setLevel(logging.INFO)"
   ]
  },
  {
   "cell_type": "code",
   "execution_count": 23,
   "metadata": {},
   "outputs": [
    {
     "name": "stdout",
     "output_type": "stream",
     "text": [
      "3.6.4 (default, Mar  1 2018, 18:36:50) \n",
      "[GCC 4.2.1 Compatible Apple LLVM 9.0.0 (clang-900.0.39.2)]\n"
     ]
    }
   ],
   "source": [
    "print(sys.version)"
   ]
  },
  {
   "cell_type": "code",
   "execution_count": 24,
   "metadata": {},
   "outputs": [
    {
     "name": "stdout",
     "output_type": "stream",
     "text": [
      "Thu Jan 10 14:34:19 2019\n"
     ]
    }
   ],
   "source": [
    "print(time.asctime())"
   ]
  },
  {
   "cell_type": "code",
   "execution_count": 25,
   "metadata": {},
   "outputs": [],
   "source": [
    "output_directory = os.path.join(\n",
    "    os.path.expanduser('~'), \n",
    "    'Desktop', \n",
    "    'biokeen_test'\n",
    ")"
   ]
  },
  {
   "cell_type": "code",
   "execution_count": 26,
   "metadata": {},
   "outputs": [
    {
     "name": "stdout",
     "output_type": "stream",
     "text": [
      "/Users/mehdi/Desktop/biokeen_test\n"
     ]
    }
   ],
   "source": [
    "print(output_directory)"
   ]
  },
  {
   "cell_type": "markdown",
   "metadata": {},
   "source": [
    "**Step 1**: Configure your experiment"
   ]
  },
  {
   "cell_type": "code",
   "execution_count": 38,
   "metadata": {},
   "outputs": [],
   "source": [
    "config = dict(\n",
    "    training_set_path           = '/Users/mehdi/PycharmProjects/BioKEEN/data/compath.keen.tsv',\n",
    "    execution_mode              = 'Training_mode',  \n",
    "    kg_embedding_model_name     = 'TransE',\n",
    "    embedding_dim               = 50, # 150 is better for real\n",
    "    normalization_of_entities   = 2,  # corresponds to L2\n",
    "    scoring_function            = 1,  # corresponds to L1\n",
    "    margin_loss                 = 5,\n",
    "    learning_rate               = 0.01,\n",
    "    batch_size                  = 32,\n",
    "    num_epochs                  = 1000,  # 2500 is better for real\n",
    "    test_set_ratio              = 0.1,\n",
    "    filter_negative_triples     = True,\n",
    "    random_seed                 = 2,\n",
    "    preferred_device            = 'cpu',\n",
    ")\n"
   ]
  },
  {
   "cell_type": "code",
   "execution_count": 39,
   "metadata": {},
   "outputs": [
    {
     "data": {
      "text/plain": [
       "{'training_set_path': '/Users/mehdi/PycharmProjects/BioKEEN/data/compath.keen.tsv',\n",
       " 'execution_mode': 'Training_mode',\n",
       " 'kg_embedding_model_name': 'TransE',\n",
       " 'embedding_dim': 50,\n",
       " 'normalization_of_entities': 2,\n",
       " 'scoring_function': 1,\n",
       " 'margin_loss': 5,\n",
       " 'learning_rate': 0.01,\n",
       " 'batch_size': 32,\n",
       " 'num_epochs': 1000,\n",
       " 'test_set_ratio': 0.1,\n",
       " 'filter_negative_triples': True,\n",
       " 'random_seed': 2,\n",
       " 'preferred_device': 'cpu'}"
      ]
     },
     "execution_count": 39,
     "metadata": {},
     "output_type": "execute_result"
    }
   ],
   "source": [
    "config"
   ]
  },
  {
   "cell_type": "markdown",
   "metadata": {},
   "source": [
    "**Step 2**: Run BioKEEN to Train and Evaluate the Model"
   ]
  },
  {
   "cell_type": "code",
   "execution_count": 40,
   "metadata": {},
   "outputs": [
    {
     "name": "stderr",
     "output_type": "stream",
     "text": [
      "INFO:pykeen.utilities.pipeline:-------------Train KG Embeddings-------------\n",
      "Training the model (epochs): 100%|██████████| 1000/1000 [01:25<00:00, 11.70it/s]\n",
      "INFO:pykeen.utilities.pipeline:-------------Start Evaluation-------------\n"
     ]
    }
   ],
   "source": [
    "results = pykeen.run(\n",
    "    config=config,\n",
    "    output_directory=output_directory,\n",
    ")"
   ]
  },
  {
   "cell_type": "code",
   "execution_count": 41,
   "metadata": {},
   "outputs": [
    {
     "data": {
      "text/plain": [
       "odict_keys(['trained_model', 'losses', 'entity_to_embedding', 'relation_to_embedding', 'eval_summary', 'entity_to_id', 'relation_to_id', 'final_configuration'])"
      ]
     },
     "execution_count": 41,
     "metadata": {},
     "output_type": "execute_result"
    }
   ],
   "source": [
    "results.results.keys()"
   ]
  },
  {
   "cell_type": "markdown",
   "metadata": {},
   "source": [
    "**Step 3**: Show Exported Results"
   ]
  },
  {
   "cell_type": "markdown",
   "metadata": {},
   "source": [
    "**3.1**: Show Trained Model"
   ]
  },
  {
   "cell_type": "code",
   "execution_count": 42,
   "metadata": {},
   "outputs": [
    {
     "data": {
      "text/plain": [
       "TransE(\n",
       "  (criterion): MarginRankingLoss()\n",
       "  (entity_embeddings): Embedding(1125, 50)\n",
       "  (relation_embeddings): Embedding(2, 50)\n",
       ")"
      ]
     },
     "execution_count": 42,
     "metadata": {},
     "output_type": "execute_result"
    }
   ],
   "source": [
    "results.results['trained_model']"
   ]
  },
  {
   "cell_type": "markdown",
   "metadata": {},
   "source": [
    "**3.2**: Plot losses"
   ]
  },
  {
   "cell_type": "code",
   "execution_count": 43,
   "metadata": {},
   "outputs": [],
   "source": [
    "losses = results.results['losses']"
   ]
  },
  {
   "cell_type": "code",
   "execution_count": 44,
   "metadata": {},
   "outputs": [
    {
     "data": {
      "image/png": "[encoded data removed]",
      "text/plain": [
       "<Figure size 432x288 with 1 Axes>"
      ]
     },
     "metadata": {
      "needs_background": "light"
     },
     "output_type": "display_data"
    }
   ],
   "source": [
    "epochs = np.arange(len(losses))\n",
    "plt.title(r'Loss Per Epoch')\n",
    "plt.xlabel('epoch')\n",
    "plt.ylabel('loss')\n",
    "plt.plot(epochs, losses)\n",
    "plt.show()"
   ]
  },
  {
   "cell_type": "markdown",
   "metadata": {},
   "source": [
    "**3.3**: Show Evaluation Results"
   ]
  },
  {
   "cell_type": "code",
   "execution_count": 45,
   "metadata": {},
   "outputs": [
    {
     "data": {
      "text/plain": [
       "OrderedDict([('mean_rank', 146.09831460674158),\n",
       "             ('hits@k',\n",
       "              {1: 0.13764044943820225,\n",
       "               3: 0.49719101123595505,\n",
       "               5: 0.5308988764044944,\n",
       "               10: 0.5758426966292135})])"
      ]
     },
     "execution_count": 45,
     "metadata": {},
     "output_type": "execute_result"
    }
   ],
   "source": [
    "results.results['eval_summary']"
   ]
  },
  {
   "cell_type": "code",
   "execution_count": null,
   "metadata": {},
   "outputs": [],
   "source": []
  }
 ],
 "metadata": {
  "kernelspec": {
   "display_name": "Python 3",
   "language": "python",
   "name": "python3"
  },
  "language_info": {
   "codemirror_mode": {
    "name": "ipython",
    "version": 3
   },
   "file_extension": ".py",
   "mimetype": "text/x-python",
   "name": "python",
   "nbconvert_exporter": "python",
   "pygments_lexer": "ipython3",
   "version": "3.6.4"
  }
 },
 "nbformat": 4,
 "nbformat_minor": 2
}
